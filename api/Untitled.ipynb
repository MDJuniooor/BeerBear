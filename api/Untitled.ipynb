{
 "cells": [
  {
   "cell_type": "code",
   "execution_count": 16,
   "metadata": {},
   "outputs": [],
   "source": [
    "import numpy as np\n",
    "import pandas as pd\n",
    "import math\n",
    "from beers.models import Beer\n",
    "\n",
    "df = pd.read_csv('beers.csv', sep=',')"
   ]
  },
  {
   "cell_type": "code",
   "execution_count": 17,
   "metadata": {},
   "outputs": [
    {
     "name": "stdout",
     "output_type": "stream",
     "text": [
      "70791 바이헨슈테파너 비투스(Weihenstephaner Vitus) Bayerische Staatsbrauerei Weihenstephan 바이젠복(Bock - Weizenbock) Freising  Germany 0.077 17.0 231 3.77 \n"
     ]
    }
   ],
   "source": [
    "ref = df.iloc[124, :].id\n",
    "name = df.iloc[124, :].Bname\n",
    "brewery = df.iloc[124, :].brewery\n",
    "style = df.iloc[124, :].style\n",
    "city = df.iloc[124, :].city\n",
    "state = str(df.iloc[124, :].state)\n",
    "country = df.iloc[124, :].country\n",
    "ABV = df.iloc[124, :].ABV\n",
    "IBU = df.iloc[124, :].IBU\n",
    "EST_CAL = df.iloc[124, :].EST_CAL\n",
    "avg_scr = df.iloc[124, :].avg_scr\n",
    "description = str(df.iloc[124, :].description )\n",
    "if description == 'nan':\n",
    "    description = \"\"\n",
    "if state == 'nan':\n",
    "    state = \"\"\n"
   ]
  },
  {
   "cell_type": "code",
   "execution_count": null,
   "metadata": {},
   "outputs": [],
   "source": []
  },
  {
   "cell_type": "code",
   "execution_count": null,
   "metadata": {},
   "outputs": [],
   "source": []
  },
  {
   "cell_type": "code",
   "execution_count": null,
   "metadata": {},
   "outputs": [
    {
     "name": "stdout",
     "output_type": "stream",
     "text": [
      "Beer no.71055 created\n",
      "Beer no.71469 created\n",
      "Beer no.72025 created\n",
      "Beer no.72311 created\n",
      "Beer no.72515 created\n",
      "Beer no.73158 created\n",
      "Beer no.80638 created\n",
      "Beer no.82651 created\n",
      "Beer no.86387 created\n"
     ]
    }
   ],
   "source": [
    "for i in range(125,len(df)):\n",
    "    ref = df.iloc[i, :].id\n",
    "    name = df.iloc[i, :].Bname\n",
    "    brewery = df.iloc[i, :].brewery\n",
    "    style = df.iloc[i, :].style\n",
    "    city = df.iloc[i, :].city\n",
    "    state = str(df.iloc[i, :].state)\n",
    "    country = df.iloc[i, :].country\n",
    "    ABV = df.iloc[i, :].ABV\n",
    "    IBU = df.iloc[i, :].IBU\n",
    "    EST_CAL = df.iloc[i, :].EST_CAL\n",
    "    avg_scr = df.iloc[i, :].avg_scr\n",
    "    description = str(df.iloc[i, :].description )\n",
    "    if description == 'nan':\n",
    "        description = \"\"\n",
    "    if state == 'nan':\n",
    "        state = \"\"\n",
    "    Beer.objects.create(ref=ref,\n",
    "                    name=name,\n",
    "                    brewery=brewery,\n",
    "                    style=style,\n",
    "                    city=city, \n",
    "                    country=country,\n",
    "                    ABV=ABV,\n",
    "                    EST_CAL=EST_CAL, \n",
    "                    avg_scr=avg_scr, \n",
    "                    description=description\n",
    "                   )\n",
    "    print('Beer no.{} created'.format(ref))"
   ]
  },
  {
   "cell_type": "code",
   "execution_count": 14,
   "metadata": {},
   "outputs": [
    {
     "ename": "NameError",
     "evalue": "name 'state' is not defined",
     "output_type": "error",
     "traceback": [
      "\u001b[1;31m---------------------------------------------------------------------------\u001b[0m",
      "\u001b[1;31mNameError\u001b[0m                                 Traceback (most recent call last)",
      "\u001b[1;32m<ipython-input-14-202074563d3b>\u001b[0m in \u001b[0;36m<module>\u001b[1;34m\u001b[0m\n\u001b[1;32m----> 1\u001b[1;33m \u001b[0mstate\u001b[0m\u001b[1;33m\u001b[0m\u001b[0m\n\u001b[0m",
      "\u001b[1;31mNameError\u001b[0m: name 'state' is not defined"
     ]
    }
   ],
   "source": [
    "state"
   ]
  }
 ],
 "metadata": {
  "kernelspec": {
   "display_name": "Django Shell-Plus",
   "language": "python",
   "name": "django_extensions"
  },
  "language_info": {
   "codemirror_mode": {
    "name": "ipython",
    "version": 3
   },
   "file_extension": ".py",
   "mimetype": "text/x-python",
   "name": "python",
   "nbconvert_exporter": "python",
   "pygments_lexer": "ipython3",
   "version": "3.6.3"
  }
 },
 "nbformat": 4,
 "nbformat_minor": 2
}
