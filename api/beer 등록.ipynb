{
 "cells": [
  {
   "cell_type": "code",
   "execution_count": null,
   "metadata": {},
   "outputs": [],
   "source": [
    "import numpy as np\n",
    "import pandas as pd\n",
    "\n",
    "df = pd.read_csv('beers.csv', sep=',')"
   ]
  },
  {
   "cell_type": "code",
   "execution_count": null,
   "metadata": {},
   "outputs": [],
   "source": []
  },
  {
   "cell_type": "code",
   "execution_count": null,
   "metadata": {},
   "outputs": [],
   "source": [
    "\n",
    "ref = df.iloc[124, :].id\n",
    "name = df.iloc[124, :].Bname\n",
    "brewery = df.iloc[124, :].brewery\n",
    "style = df.iloc[124, :].style\n",
    "city = df.iloc[124, :].city\n",
    "state = df.iloc[124, :].state if not isinstance(description, float) else \"\"\n",
    "country = df.iloc[124, :].country\n",
    "ABV = df.iloc[124, :].ABV\n",
    "IBU = df.iloc[124, :].IBU\n",
    "EST_CAL = df.iloc[124, :].EST_CAL\n",
    "avg_scr = df.iloc[124, :].avg_scr\n",
    "description = df.iloc[124, :].description if not isinstance(description, float) else \"\"\n",
    "\n",
    "\n",
    "Beer.objects.create(ref=ref,\n",
    "                    name=name,\n",
    "                    brewery=brewery,\n",
    "                    style=style,\n",
    "                    city=city, \n",
    "                    country=country,\n",
    "                    ABV=ABV,\n",
    "                    EST_CAL=EST_CAL, \n",
    "                    avg_scr=avg_scr, \n",
    "                    description=description\n",
    "                   )"
   ]
  },
  {
   "cell_type": "code",
   "execution_count": null,
   "metadata": {},
   "outputs": [],
   "source": [
    "for i in range(125,len(df)):\n",
    "    ref = df.iloc[i,:].id \n",
    "    name = df.iloc[i,:].Bname\n",
    "    brewery = df.iloc[i,:].brewery \n",
    "    style = df.iloc[i,:].style \n",
    "    city = df.iloc[i,:].city \n",
    "    state = df.iloc[i,:].state if not isinstance(description, float) else \"\"\n",
    "    country = df.iloc[i,:].country\n",
    "    ABV = df.iloc[i,:].ABV \n",
    "    IBU = df.iloc[i,:].IBU \n",
    "    EST_CAL = df.iloc[i,:].EST_CAL \n",
    "    avg_scr = df.iloc[i,:].avg_scr \n",
    "    description = df.iloc[i,:].description if not isinstance(description, float) else \"\"\n",
    "\n",
    "    Beer.objects.create(ref=ref,\n",
    "                    name=name,\n",
    "                    brewery=brewery,\n",
    "                    style=style,\n",
    "                    city=city, \n",
    "                    country=country,\n",
    "                    ABV=ABV,\n",
    "                    EST_CAL=EST_CAL, \n",
    "                    avg_scr=avg_scr, \n",
    "                    description=description\n",
    "                   )\n",
    "    print('Beer no.{} created'.format(ref))"
   ]
  }
 ],
 "metadata": {
  "kernelspec": {
   "display_name": "Django Shell-Plus",
   "language": "python",
   "name": "django_extensions"
  },
  "language_info": {
   "codemirror_mode": {
    "name": "ipython",
    "version": 3
   },
   "file_extension": ".py",
   "mimetype": "text/x-python",
   "name": "python",
   "nbconvert_exporter": "python",
   "pygments_lexer": "ipython3",
   "version": "3.6.3"
  }
 },
 "nbformat": 4,
 "nbformat_minor": 2
}
